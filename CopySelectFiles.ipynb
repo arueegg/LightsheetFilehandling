{
 "cells": [
  {
   "cell_type": "markdown",
   "id": "b70390fb-315c-43b8-b9c4-11eea5ab2ea5",
   "metadata": {},
   "source": [
    "# Transfer selected files\n",
    "\n",
    "This script allows to copy files spread out across multiple sub folders to a single directory.\n",
    "Absolute filepaths of select files should be collected in a single column of an excel file."
   ]
  },
  {
   "cell_type": "markdown",
   "id": "4613456d-0494-4a4d-a296-71e22301bde8",
   "metadata": {},
   "source": [
    "### *Create mock files for testing*\n",
    "<b> The function below only needs to run to create mock files! </b>"
   ]
  },
  {
   "cell_type": "code",
   "execution_count": 10,
   "id": "cf4c9d17-a891-46c9-b82b-f01a124457e9",
   "metadata": {},
   "outputs": [],
   "source": [
    "def create_mockfiles():\n",
    "    df = pd.read_excel('..//Testfiles//Book1.xlsx')\n",
    "    for filepath in df['Filepath']:\n",
    "        splitpath = filepath.split(\"/\")\n",
    "        splitpath_nofile = splitpath[0:(len(splitpath)-1)]\n",
    "        path = \"/\".join(splitpath_nofile)\n",
    "        if os.path.exists(path) == False:\n",
    "            os.makedirs(path)\n",
    "    for filepath in df['Filepath']:\n",
    "        try:\n",
    "            with open(filepath, 'w') as f:\n",
    "                f.write('Create a new text file!')\n",
    "        except FileNotFoundError:\n",
    "            print(filepath, \"does not exist\")"
   ]
  },
  {
   "cell_type": "markdown",
   "id": "741b2b98-b4c6-4fdd-8557-330533818d9c",
   "metadata": {},
   "source": [
    "## <i> CODE </i>"
   ]
  },
  {
   "cell_type": "code",
   "execution_count": 2,
   "id": "02e309f2-4361-45fd-9fa9-86705ea18569",
   "metadata": {},
   "outputs": [],
   "source": [
    "import pandas as pd\n",
    "import os\n",
    "import shutil\n",
    "import time\n"
   ]
  },
  {
   "cell_type": "markdown",
   "id": "b233b658-8ade-40d5-be0a-eacd765559b4",
   "metadata": {},
   "source": [
    "Define transfer parameters <br>\n",
    "<b> CHANGE THIS TO ADAPT IN- AND OUTPUT! </b>"
   ]
  },
  {
   "cell_type": "code",
   "execution_count": 11,
   "id": "41a5a474-4f65-4784-8a71-83b0fc2e9c0a",
   "metadata": {},
   "outputs": [
    {
     "name": "stdin",
     "output_type": "stream",
     "text": [
      "Enter a file path to Excel list:  ..//Testfiles//Book1.xlsx\n"
     ]
    },
    {
     "name": "stdout",
     "output_type": "stream",
     "text": [
      "..//Testfiles//Book1.xlsx\n"
     ]
    },
    {
     "name": "stdin",
     "output_type": "stream",
     "text": [
      "Column in Excel that contains original filepath:  path\n"
     ]
    },
    {
     "name": "stdout",
     "output_type": "stream",
     "text": [
      "path\n"
     ]
    },
    {
     "name": "stdin",
     "output_type": "stream",
     "text": [
      "file separator used in the excel file:  \n"
     ]
    },
    {
     "name": "stdout",
     "output_type": "stream",
     "text": [
      "\\\n"
     ]
    },
    {
     "name": "stdin",
     "output_type": "stream",
     "text": [
      "Enter a destination folder:  ..//Output\n"
     ]
    },
    {
     "name": "stdout",
     "output_type": "stream",
     "text": [
      "..//Output\n"
     ]
    },
    {
     "name": "stdin",
     "output_type": "stream",
     "text": [
      "Overwrite files in destination folder? (True, False):  T\n"
     ]
    },
    {
     "name": "stdout",
     "output_type": "stream",
     "text": [
      "T\n",
      "good to go\n"
     ]
    }
   ],
   "source": [
    "test = False\n",
    "while (test == False):\n",
    "    excel_metadata_file = input('Enter a file path to Excel list: ') \n",
    "    print(excel_metadata_file)\n",
    "    column_name = input('Column in Excel that contains original filepath: ') or 'path'\n",
    "    print(column_name)\n",
    "    sep_used = input('file separator used in the excel file: ') or '\\\\'\n",
    "    print(sep_used)\n",
    "    destination = input('Enter a destination folder: ')\n",
    "    print(destination)\n",
    "    overwrite = input('Overwrite files in destination folder? (True, False): ') or False\n",
    "    print(overwrite)\n",
    "    test = os.path.exists(excel_metadata_file) and (column_name in pd.read_excel(excel_metadata_file).columns) and (os.path.exists(destination))\n",
    "    if (test == False):\n",
    "        print('one of your entries was invalid')\n",
    "        test = input('repeat? ') or True\n",
    "        if (test == True):\n",
    "            print('stopped')\n",
    "    else:\n",
    "        print('good to go')    "
   ]
  },
  {
   "cell_type": "markdown",
   "id": "208d6c33-7b8b-4957-91a2-40e87c457cbe",
   "metadata": {},
   "source": [
    "## Check transfer success\n",
    "Create lists to collect information on transfer success <br>\n",
    "as well as a clearing function to allow lists to be cleard after each run"
   ]
  },
  {
   "cell_type": "code",
   "execution_count": 12,
   "id": "bd4541de-f8f1-4feb-9139-b006ef83bf50",
   "metadata": {},
   "outputs": [],
   "source": [
    "missingfiles = list()\n",
    "pre_existing_destfiles = list()\n",
    "overwrittenfiles =list()\n",
    "transferredfiles = list()\n",
    "\n",
    "def clear_lists(mf = missingfiles, \n",
    "                pe = pre_existing_destfiles,\n",
    "                of = overwrittenfiles,\n",
    "                tf = transferredfiles):\n",
    "    mf *= 0\n",
    "    pe *= 0\n",
    "    of *= 0\n",
    "    tf *= 0"
   ]
  },
  {
   "cell_type": "markdown",
   "id": "187e1fe0-e5dd-4e08-a387-fa4ea44ef721",
   "metadata": {
    "tags": []
   },
   "source": [
    "## Copy Function\n",
    "The function below is the actual copy function.<br>\n",
    "Along with copying the files, it also generates a transfer report in the end to check, <br>\n",
    "which files were not copied due to error.\n",
    "\n",
    "<b>Parameters:</b>\n",
    "<br><span style=\"color:blue\"><b>file</b></span>: excel file with column containing file paths\n",
    "<br><span style=\"color:blue\"><b>col</b></span>: column in <span style=\"color:blue\"><b>file</b></span> containing file paths\n",
    "<br><span style=\"color:blue\"><b>dest</b></span>: destination to copy files to\n",
    "<br><span style=\"color:blue\"><b>sep_used</b></span>: file separator used in excel file\n",
    "<br><span style=\"color:blue\"><b>overwrite</b></span>: overwrite pre-existing files in <span style=\"color:blue\"><b>dest</b></span> (True/False)\n",
    "<br><span style=\"color:blue\"><b>missingls, dest_existing, overwritten, transferred</b></span>: lists used to generate a transfer report\n",
    "\n",
    "\n"
   ]
  },
  {
   "cell_type": "code",
   "execution_count": 16,
   "id": "28092d07-6f44-4d26-a271-1939483d003f",
   "metadata": {},
   "outputs": [],
   "source": [
    "def collect_copy(file = excel_metadata_file, \n",
    "                 col = column_name, \n",
    "                 dest = destination,\n",
    "                 sep_used = sep_used, \n",
    "                 overwrite = overwrite, \n",
    "                 missingls = missingfiles, \n",
    "                 dest_existing = pre_existing_destfiles, \n",
    "                 overwritten = overwrittenfiles, \n",
    "                 transferred = transferredfiles):\n",
    "        \n",
    "    df = pd.read_excel(file)\n",
    "    for filepath in df[col]:\n",
    "        filename = os.path.basename(filepath)\n",
    "        #Check if input file exists\n",
    "        if os.path.exists(filepath)== False:\n",
    "            missingls.append(filepath)\n",
    "            continue\n",
    "        destfile = os.path.join(destination, os.path.basename(filepath))\n",
    "        \n",
    "        # check if output file exists\n",
    "        if os.path.exists(destfile) == True:\n",
    "            dest_existing.append(destfile)\n",
    "            if overwrite == False:\n",
    "                continue\n",
    "            else:\n",
    "                overwritten.append(destfile)\n",
    "        #transfer\n",
    "        shutil.copyfile(filepath, destfile)\n",
    "        transferred.append(filename)\n",
    "    \n",
    "    transfer_report = str(\"\".join([dest, 'transfer_report_', time.strftime(\"%Y%m%d%H%M\"), '.txt']))\n",
    "    line = \"\\n \\n ----------------------------------------------- \\n\"\n",
    "    with open(transfer_report, 'w') as fp:\n",
    "        fp.write(\"Transfer Report: \\n \\n \")\n",
    "        fp.write(line)\n",
    "        fp.write(\"Parameters used:\\n\")\n",
    "        fp.write(\"\".join([\"Metadata file with input: \", file, \"\\n\"]))\n",
    "        fp.write(\"\".join([\"Column with filepath: \", col, \"\\n\"]))\n",
    "        fp.write(\"\".join([\"Destination Folder: \", dest, \"\\n\"]))\n",
    "        fp.write(\"\".join([\"File separator in excel: \", sep_used, \"\\n\"]))\n",
    "        fp.write(\"\".join([\"Overwrite existing files: \", str(overwrite), \"\\n\"]))\n",
    "        fp.write(line)\n",
    "        fp.write(\"\".join([ \"finished: \", time.strftime(\"%Y-%m-%d\"), \", \",\n",
    "                 time.strftime(\"%H:%M:%S\") ]))\n",
    "        fp.write(line)\n",
    "        fp.write(line)\n",
    "        fp.write(\"Missing Input Files: \\n\\n\")\n",
    "        for item in missingls:\n",
    "            # write each item on a new line\n",
    "            fp.write(\"%s\\n\" % item)\n",
    "        fp.write(line)\n",
    "        fp.write(\"Files Already Existed in Destination: \\n\\n\")\n",
    "        for item in dest_existing:\n",
    "            # write each item on a new line\n",
    "            fp.write(\"%s\\n\" % item)\n",
    "        fp.write(line)\n",
    "        fp.write(\"Destination Files Overwritten: \\n\\n\")\n",
    "        for item in overwritten:\n",
    "            # write each item on a new line\n",
    "            fp.write(\"%s\\n\" % item)\n",
    "        fp.write(line)\n",
    "        fp.write(\"Successfully Transfered: \\n\\n\")\n",
    "        for item in transferred:\n",
    "            # write each item on a new line\n",
    "            fp.write(\"%s\\n\" % item)\n",
    "    print(\"Transfer finished \", time.strftime(\"%Y%m%d_%H%M%S\"))"
   ]
  },
  {
   "cell_type": "markdown",
   "id": "af8f7f44-38ee-4d3a-b241-f8f202e6b4b4",
   "metadata": {},
   "source": [
    "Run transfer function"
   ]
  },
  {
   "cell_type": "code",
   "execution_count": 17,
   "id": "eeedb6ac-4a83-41e3-bbea-392043bd70b5",
   "metadata": {},
   "outputs": [
    {
     "name": "stdout",
     "output_type": "stream",
     "text": [
      "Transfer finished  20221004_090312\n"
     ]
    }
   ],
   "source": [
    "clear_lists()    \n",
    "collect_copy()"
   ]
  },
  {
   "cell_type": "code",
   "execution_count": null,
   "id": "0975d350-763b-44cc-904e-18b28f1da883",
   "metadata": {},
   "outputs": [],
   "source": []
  }
 ],
 "metadata": {
  "kernelspec": {
   "display_name": "Python 3 (ipykernel)",
   "language": "python",
   "name": "python3"
  },
  "language_info": {
   "codemirror_mode": {
    "name": "ipython",
    "version": 3
   },
   "file_extension": ".py",
   "mimetype": "text/x-python",
   "name": "python",
   "nbconvert_exporter": "python",
   "pygments_lexer": "ipython3",
   "version": "3.9.5"
  }
 },
 "nbformat": 4,
 "nbformat_minor": 5
}
